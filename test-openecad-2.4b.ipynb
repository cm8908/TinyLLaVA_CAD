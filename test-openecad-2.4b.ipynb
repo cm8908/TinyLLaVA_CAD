{
 "cells": [
  {
   "cell_type": "code",
   "execution_count": 22,
   "metadata": {},
   "outputs": [
    {
     "name": "stderr",
     "output_type": "stream",
     "text": [
      "/home/jung/anaconda3/envs/tinyllava_factory/lib/python3.10/site-packages/huggingface_hub/file_download.py:1132: FutureWarning: `resume_download` is deprecated and will be removed in version 1.0.0. Downloads always resume when possible. If you want to force a new download, use `force_download=True`.\n",
      "  warnings.warn(\n",
      "Loading checkpoint shards: 100%|██████████| 2/2 [00:00<00:00,  6.96it/s]\n"
     ]
    }
   ],
   "source": [
    "import json\n",
    "from PIL import Image\n",
    "from tinyllava.model.load_model import load_pretrained_model\n",
    "from tinyllava.data.text_preprocess import TextPreprocess\n",
    "from tinyllava.data.image_preprocess import ImagePreprocess\n",
    "from tinyllava.utils.constants import *\n",
    "from tinyllava.utils.message import Message\n",
    "\n",
    "# HuggingFace model path (https://huggingface.co/Yuki-Kokomi)\n",
    "hf_path = 'Yuki-Kokomi/OpenECAD-SigLIP-2.4B'\n",
    "# 모델, 토크나이저, 이미지처리, context length 불러오기\n",
    "model, tokenizer, image_processor, context_len = load_pretrained_model(hf_path)\n",
    "model.cuda()\n",
    "\n",
    "# 텍스트, 이미지 전처리기 초기화\n",
    "text_processor = TextPreprocess(tokenizer, 'gemma')\n",
    "image_processor = ImagePreprocess(image_processor, model.config)\n"
   ]
  },
  {
   "cell_type": "code",
   "execution_count": 25,
   "metadata": {},
   "outputs": [
    {
     "data": {
      "text/plain": [
       "{'id': '00000131',\n",
       " 'image': '00000131.jpg',\n",
       " 'conversations': [{'from': 'human',\n",
       "   'value': '<image>\\nThis image is a view of a 3D model from a certain angle. Please try to use Python-style APIs to render this model.'},\n",
       "  {'from': 'gpt',\n",
       "   'value': 'Of course, here are the codes:\\n```python\\nSketchPlane0 = add_sketchplane(\\n\\torigin= [0., 0., 0.], normal= [1., 0., 0.], x_axis= [ 0.,  1., -0.], y_axis= [0., 0., 1.])\\nLoops0 = []\\nCurves0_0 = []\\nCircle0_0_0 = add_circle(center= [175.5, 128. ], radius= 47.5)\\nCurves0_0.append(Circle0_0_0)\\nLoop0_0 = add_loop(Curves0_0)\\nLoops0.append(Loop0_0)\\nCurves0_1 = []\\nCircle0_1_0 = add_circle(center= [175.5, 128. ], radius= 24.9375)\\nCurves0_1.append(Circle0_1_0)\\nLoop0_1 = add_loop(Curves0_1)\\nLoops0.append(Loop0_1)\\nProfile0 = add_profile(Loops0)\\nSketch0 = add_sketch(sketch_plane= SketchPlane0, profile= Profile0,\\n\\tsketch_position= [-0.  , -0.75,  0.  ], sketch_size= 1.5)\\nExtrude0 = add_extrude(sketch= Sketch0,\\n\\toperation= 0, type= 0, extent_one= 0.2109, extent_two= 0.)\\n```'}]}"
      ]
     },
     "execution_count": 25,
     "metadata": {},
     "output_type": "execute_result"
    }
   ],
   "source": [
    "text_data[0]"
   ]
  },
  {
   "cell_type": "code",
   "execution_count": 37,
   "metadata": {},
   "outputs": [
    {
     "name": "stdout",
     "output_type": "stream",
     "text": [
      "torch.Size([1, 66]) 00000131.jpg\n",
      "<image>\n",
      "This image is a view of a 3D model from a certain angle. Please try to use Python-style APIs to render this model.\n",
      "Of course, here are the codes:\n",
      "```python\n",
      "SketchPlane0 = add_sketchplane(\n",
      "\torigin= [0., 0., 0.], normal= [1., 0., 0.], x_axis= [ 0.,  1., -0.], y_axis= [0., 0., 1.])\n",
      "Loops0 = []\n",
      "Curves0_0 = []\n",
      "Circle0_0_0 = add_circle(center= [175.5, 128. ], radius= 47.5)\n",
      "Curves0_0.append(Circle0_0_0)\n",
      "Loop0_0 = add_loop(Curves0_0)\n",
      "Loops0.append(Loop0_0)\n",
      "Curves0_1 = []\n",
      "Circle0_1_0 = add_circle(center= [175.5, 128. ], radius= 24.9375)\n",
      "Curves0_1.append(Circle0_1_0)\n",
      "Loop0_1 = add_loop(Curves0_1)\n",
      "Loops0.append(Loop0_1)\n",
      "Profile0 = add_profile(Loops0)\n",
      "Sketch0 = add_sketch(sketch_plane= SketchPlane0, profile= Profile0,\n",
      "\tsketch_position= [-0.  , -0.75,  0.  ], sketch_size= 1.5)\n",
      "Extrude0 = add_extrude(sketch= Sketch0,\n",
      "\toperation= 0, type= 0, extent_one= 0.2109, extent_two= 0.)\n",
      "```\n"
     ]
    }
   ],
   "source": [
    "# 텍스트 데이터 파일 경로\n",
    "text_path = 'dataset/text_files/data_3d_lite.json'\n",
    "text_data = json.load(open(text_path))\n",
    "\n",
    "data_id = text_data[0]['id']  # 데이터 ID\n",
    "image_file = text_data[0]['image']  # 이미지 파일명\n",
    "query = text_data[0]['conversations'][0]['value']  # 프롬프트\n",
    "answer = text_data[0]['conversations'][1]['value']  # 정답 레이블\n",
    "\n",
    "msg = Message()  # 메시지 객체 생성 (언어모델에 입력하기 위한 대화형 template을 만들어주는 역할)\n",
    "msg.add_message(query)\n",
    "\n",
    "result = text_processor(msg.messages, mode='eval')   # 토큰화\n",
    "input_ids = result['input_ids'].unsqueeze(0).cuda()\n",
    "\n",
    "print(input_ids.shape, image_file) \n",
    "print(query)\n",
    "print(answer)"
   ]
  },
  {
   "cell_type": "code",
   "execution_count": 39,
   "metadata": {},
   "outputs": [
    {
     "ename": "SyntaxError",
     "evalue": "f-string: expecting '}' (1262899100.py, line 2)",
     "output_type": "error",
     "traceback": [
      "\u001b[0;36m  Cell \u001b[0;32mIn[39], line 2\u001b[0;36m\u001b[0m\n\u001b[0;31m    image_path = f'dataset/openecad/\\{images_3d/{image_file}'\u001b[0m\n\u001b[0m                                                             ^\u001b[0m\n\u001b[0;31mSyntaxError\u001b[0m\u001b[0;31m:\u001b[0m f-string: expecting '}'\n"
     ]
    }
   ],
   "source": [
    "# 이미지 파일 경로\n",
    "image_path = f'dataset/openecad/images_3d/{image_file}'\n",
    "image = Image.open(image_path).convert('RGB')\n",
    "display(image)  # Jupyter notebook에서 이미지 출력\n",
    "\n",
    "image_tensor = image_processor(image)  # 이미지 전처리(텐서화)\n",
    "image_tensors = image_tensor.unsqueeze(0).half().cuda()\n",
    "image_sizes = [image.size]\n",
    "image_tensors.shape, image_sizes"
   ]
  },
  {
   "cell_type": "code",
   "execution_count": 40,
   "metadata": {},
   "outputs": [],
   "source": [
    "temperature = 0.2   # temperature가 높으면 더 다양한 문장이 생성됨, 낮으면 더 일관된 문장이 생성됨\n",
    "output_ids = model.generate(inputs=input_ids,  # input token\n",
    "                            images=image_tensors,  # image tensor\n",
    "                            image_sizes=image_sizes,   # image size\n",
    "                            do_sample=True if temperature > 0 else False,  # 확률적 sampling 여부\n",
    "                            temperature=temperature,  # temperature\n",
    "                            max_new_tokens=context_len,  # context length\n",
    "                            use_cache=True\n",
    ")\n",
    "outputs = tokenizer.batch_decode(output_ids, skip_special_tokens=True)  # 출력된 토큰을 텍스트로 디코딩"
   ]
  },
  {
   "cell_type": "code",
   "execution_count": 42,
   "metadata": {},
   "outputs": [
    {
     "name": "stdout",
     "output_type": "stream",
     "text": [
      " Of course, here are the codes:\n",
      "```python\n",
      "SketchPlane0 = add_sketchplane(\n",
      "\torigin= [0., 0., 0.], normal= [0., 0., 1.], x_axis= [1., 0., 0.], y_axis= [0., 1., 0.])\n",
      "Loops0 = []\n",
      "Curves0_0 = []\n",
      "Circle0_0_0 = add_circle(center= [175.5, 128. ], radius= 47.5)\n",
      "Curves0_0.append(Circle0_0_0)\n",
      "Loop0_0 = add_loop(Curves0_0)\n",
      "Loops0.append(Loop0_0)\n",
      "Curves0_1 = []\n",
      "Circle0_1_0 = add_circle(center= [175.5, 128. ], radius= 1.9792)\n",
      "Curves0_1.append(Circle0_1_0)\n",
      "Loop0_1 = add_loop(Curves0_1)\n",
      "Loops0.append(Loop0_1)\n",
      "Profile0 = add_profile(Loops0)\n",
      "Sketch0 = add_sketch(sketch_plane= SketchPlane0, profile= Profile0,\n",
      "\tsketch_position= [-0.75,  0.  ,  0.  ], sketch_size= 1.5)\n",
      "Extrude0 = add_extrude(sketch= Sketch0,\n",
      "\toperation= 0, type= 0, extent_one= 0.0015, extent_two= 0.)\n",
      "```\n"
     ]
    }
   ],
   "source": [
    "print(outputs[0])  # 터미널에 출력\n",
    "print(outputs[0], file=open('output_example.md', 'w'))  # `output_example.md`라는 마크다운 파일에 출력"
   ]
  }
 ],
 "metadata": {
  "kernelspec": {
   "display_name": "tinyllava_factory",
   "language": "python",
   "name": "python3"
  },
  "language_info": {
   "codemirror_mode": {
    "name": "ipython",
    "version": 3
   },
   "file_extension": ".py",
   "mimetype": "text/x-python",
   "name": "python",
   "nbconvert_exporter": "python",
   "pygments_lexer": "ipython3",
   "version": "3.10.14"
  }
 },
 "nbformat": 4,
 "nbformat_minor": 2
}
